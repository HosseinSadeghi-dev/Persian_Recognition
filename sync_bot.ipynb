{
  "nbformat": 4,
  "nbformat_minor": 0,
  "metadata": {
    "colab": {
      "name": "sync_bot.ipynb",
      "provenance": [],
      "collapsed_sections": [],
      "mount_file_id": "1DObWY-_G9SPhLRkCCLvg1O_k3L1dSUxF",
      "authorship_tag": "ABX9TyOFzQij/hR2CsZHv2xXxka2",
      "include_colab_link": true
    },
    "kernelspec": {
      "name": "python3",
      "display_name": "Python 3"
    },
    "language_info": {
      "name": "python"
    }
  },
  "cells": [
    {
      "cell_type": "markdown",
      "metadata": {
        "id": "view-in-github",
        "colab_type": "text"
      },
      "source": [
        "<a href=\"https://colab.research.google.com/github/HosseinSadeghi-dev/Persian_Recognition/blob/main/sync_bot.ipynb\" target=\"_parent\"><img src=\"https://colab.research.google.com/assets/colab-badge.svg\" alt=\"Open In Colab\"/></a>"
      ]
    },
    {
      "cell_type": "code",
      "metadata": {
        "id": "qgSK8m1Z1wrN"
      },
      "source": [
        "!pip install telebot\n",
        "!pip install pyTelegramBotAPI"
      ],
      "execution_count": null,
      "outputs": []
    },
    {
      "cell_type": "code",
      "metadata": {
        "id": "1FJWE7pM1K3z"
      },
      "source": [
        "import cv2\n",
        "import telebot\n",
        "import numpy as np\n",
        "from keras.models import load_model\n",
        "\n",
        "model = load_model(\"/content/drive/MyDrive/model_Persian_recognition.h5\")\n",
        "bot = telebot.TeleBot(\"2003265436:AAEBC8nFhLDY3iZ0RgW2DPcXY3n9buTg4jw\")\n",
        "\n",
        "scale = 225\n",
        "\n",
        "\n",
        "@bot.message_handler(commands=['start'])\n",
        "def say_hello(messages):\n",
        "    bot.send_message(messages.chat.id, f'Welcome {messages.from_user.first_name}')\n",
        "    bot.send_message(messages.chat.id, f'Here you can Recognition Persians 🇮🇷 from who are not Persian')\n",
        "    bot.send_message(messages.chat.id, f'Send Portrait From Person You Want to Know Where he/she is From')\n",
        "\n",
        "\n",
        "@bot.message_handler(content_types=['photo'])\n",
        "def photo(message):\n",
        "    src = bot.get_file(message.photo[-1].file_id).file_path\n",
        "    downloaded_file = bot.download_file(src)\n",
        "    with open(\"/content/drive/MyDrive/test-telegram-bots/\" + src, 'wb') as new_file:\n",
        "        new_file.write(downloaded_file)\n",
        "\n",
        "    image = cv2.imread(\"/content/drive/MyDrive/test-telegram-bots/\" + src)\n",
        "    image = cv2.cvtColor(image, cv2.COLOR_BGR2RGB)\n",
        "    image = cv2.resize(image, (scale, scale))\n",
        "    image = image / scale\n",
        "    image = image.reshape(1, scale, scale, 3)\n",
        "    pred = model.predict([image])\n",
        "\n",
        "    res = np.argmax(pred)\n",
        "    if res == 0:\n",
        "        bot.reply_to(message, 'Persian 🇮🇷')\n",
        "    else:\n",
        "        bot.reply_to(message, 'Not Persian')\n",
        "\n",
        "\n",
        "bot.polling()\n"
      ],
      "execution_count": 4,
      "outputs": []
    }
  ]
}